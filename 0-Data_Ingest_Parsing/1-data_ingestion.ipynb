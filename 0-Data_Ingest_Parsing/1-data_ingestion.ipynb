{
 "cells": [
  {
   "cell_type": "markdown",
   "id": "dda38c5c",
   "metadata": {},
   "source": [
    "# Introduction to Data Ingestion"
   ]
  },
  {
   "cell_type": "code",
   "execution_count": 1,
   "id": "7ed43246",
   "metadata": {},
   "outputs": [],
   "source": [
    "import os\n",
    "from typing import List,Dict,Any\n",
    "import pandas as pd"
   ]
  },
  {
   "cell_type": "code",
   "execution_count": 6,
   "id": "d0a74191",
   "metadata": {},
   "outputs": [],
   "source": [
    "from langchain_core.documents import Document\n",
    "from langchain.text_splitter import (\n",
    "                                    RecursiveCharacterTextSplitter,\n",
    "                                    CharacterTextSplitter,\n",
    "                                    TokenTextSplitter\n",
    "                                    )"
   ]
  },
  {
   "cell_type": "code",
   "execution_count": 7,
   "id": "90e97090",
   "metadata": {},
   "outputs": [
    {
     "name": "stdout",
     "output_type": "stream",
     "text": [
      "Set up Completed...\n"
     ]
    }
   ],
   "source": [
    "print(\"Set up Completed...\")"
   ]
  },
  {
   "cell_type": "code",
   "execution_count": 8,
   "id": "2f251a46",
   "metadata": {},
   "outputs": [],
   "source": [
    "## Understand document structure in langchain"
   ]
  },
  {
   "cell_type": "code",
   "execution_count": 11,
   "id": "05936f8b",
   "metadata": {},
   "outputs": [],
   "source": [
    "## Crreate a simple document\n",
    "doc = Document(\n",
    "    page_content=\"This is the main text content that will be embdded and searched.\",\n",
    "    metadata ={\n",
    "        \"source\":\"example.txt\",\n",
    "        \"page\":1,\n",
    "        \"author\":\"Siddhesh m\",\n",
    "        \"date_created\":\"2025-08-17\",\n",
    "        \"custom_field\":\"any_value\"  \n",
    "\n",
    "    }\n",
    ")"
   ]
  },
  {
   "cell_type": "code",
   "execution_count": 14,
   "id": "e84ef9d1",
   "metadata": {},
   "outputs": [
    {
     "name": "stdout",
     "output_type": "stream",
     "text": [
      "Document Structure\n",
      "Content: This is the main text content that will be embdded and searched.\n",
      "Content: {'source': 'example.txt', 'page': 1, 'author': 'Siddhesh m', 'date_created': '2025-08-17', 'custom_field': 'any_value'}\n"
     ]
    },
    {
     "data": {
      "text/plain": [
       "'\\n- filtering search results\\n- Tracking document sources\\n- Providing context in responses\\n- Debugging and auditing\\n'"
      ]
     },
     "execution_count": 14,
     "metadata": {},
     "output_type": "execute_result"
    }
   ],
   "source": [
    "print(\"Document Structure\")\n",
    "print(f\"Content: {doc.page_content}\")\n",
    "print(f\"Content: {doc.metadata}\")\n",
    "\n",
    "# metadata is useful for \n",
    "'''\n",
    "- filtering search results\n",
    "- Tracking document sources\n",
    "- Providing context in responses\n",
    "- Debugging and auditing\n",
    "'''"
   ]
  },
  {
   "cell_type": "code",
   "execution_count": null,
   "id": "ae5a7fa4",
   "metadata": {},
   "outputs": [],
   "source": []
  },
  {
   "cell_type": "code",
   "execution_count": null,
   "id": "6a0cd3cd",
   "metadata": {},
   "outputs": [],
   "source": []
  },
  {
   "cell_type": "code",
   "execution_count": null,
   "id": "582343a5",
   "metadata": {},
   "outputs": [],
   "source": []
  },
  {
   "cell_type": "code",
   "execution_count": null,
   "id": "97959b15",
   "metadata": {},
   "outputs": [],
   "source": []
  },
  {
   "cell_type": "code",
   "execution_count": null,
   "id": "3ea19d40",
   "metadata": {},
   "outputs": [],
   "source": []
  },
  {
   "cell_type": "code",
   "execution_count": null,
   "id": "6f98df5b",
   "metadata": {},
   "outputs": [],
   "source": []
  }
 ],
 "metadata": {
  "kernelspec": {
   "display_name": "RAG_Bootcamp",
   "language": "python",
   "name": "python3"
  },
  "language_info": {
   "codemirror_mode": {
    "name": "ipython",
    "version": 3
   },
   "file_extension": ".py",
   "mimetype": "text/x-python",
   "name": "python",
   "nbconvert_exporter": "python",
   "pygments_lexer": "ipython3",
   "version": "3.11.7"
  }
 },
 "nbformat": 4,
 "nbformat_minor": 5
}
