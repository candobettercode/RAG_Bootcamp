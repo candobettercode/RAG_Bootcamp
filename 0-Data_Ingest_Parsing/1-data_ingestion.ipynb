{
 "cells": [
  {
   "cell_type": "markdown",
   "id": "dda38c5c",
   "metadata": {},
   "source": [
    "# Introduction to Data Ingestion"
   ]
  },
  {
   "cell_type": "code",
   "execution_count": 1,
   "id": "7ed43246",
   "metadata": {},
   "outputs": [],
   "source": [
    "import os\n",
    "from typing import List,Dict,Any\n",
    "import pandas as pd"
   ]
  },
  {
   "cell_type": "code",
   "execution_count": 2,
   "id": "d0a74191",
   "metadata": {},
   "outputs": [],
   "source": [
    "from langchain_core.documents import Document\n",
    "from langchain.text_splitter import (\n",
    "                                    RecursiveCharacterTextSplitter,\n",
    "                                    CharacterTextSplitter,\n",
    "                                    TokenTextSplitter\n",
    "                                    )"
   ]
  },
  {
   "cell_type": "code",
   "execution_count": 3,
   "id": "90e97090",
   "metadata": {},
   "outputs": [
    {
     "name": "stdout",
     "output_type": "stream",
     "text": [
      "Set up Completed...\n"
     ]
    }
   ],
   "source": [
    "print(\"Set up Completed...\")"
   ]
  },
  {
   "cell_type": "code",
   "execution_count": 4,
   "id": "2f251a46",
   "metadata": {},
   "outputs": [],
   "source": [
    "## Understand document structure in langchain"
   ]
  },
  {
   "cell_type": "code",
   "execution_count": 5,
   "id": "05936f8b",
   "metadata": {},
   "outputs": [],
   "source": [
    "## Crreate a simple document\n",
    "doc = Document(\n",
    "    page_content=\"This is the main text content that will be embdded and searched.\",\n",
    "    metadata ={\n",
    "        \"source\":\"example.txt\",\n",
    "        \"page\":1,\n",
    "        \"author\":\"Siddhesh m\",\n",
    "        \"date_created\":\"2025-08-17\",\n",
    "        \"custom_field\":\"any_value\"  \n",
    "\n",
    "    }\n",
    ")"
   ]
  },
  {
   "cell_type": "code",
   "execution_count": 6,
   "id": "e84ef9d1",
   "metadata": {},
   "outputs": [
    {
     "name": "stdout",
     "output_type": "stream",
     "text": [
      "Document Structure\n",
      "Content: This is the main text content that will be embdded and searched.\n",
      "Content: {'source': 'example.txt', 'page': 1, 'author': 'Siddhesh m', 'date_created': '2025-08-17', 'custom_field': 'any_value'}\n"
     ]
    },
    {
     "data": {
      "text/plain": [
       "'\\n- filtering search results\\n- Tracking document sources\\n- Providing context in responses\\n- Debugging and auditing\\n'"
      ]
     },
     "execution_count": 6,
     "metadata": {},
     "output_type": "execute_result"
    }
   ],
   "source": [
    "print(\"Document Structure\")\n",
    "print(f\"Content: {doc.page_content}\")\n",
    "print(f\"Content: {doc.metadata}\")\n",
    "\n",
    "# metadata is useful for \n",
    "'''\n",
    "- filtering search results\n",
    "- Tracking document sources\n",
    "- Providing context in responses\n",
    "- Debugging and auditing\n",
    "'''"
   ]
  },
  {
   "cell_type": "code",
   "execution_count": 7,
   "id": "ae5a7fa4",
   "metadata": {},
   "outputs": [
    {
     "data": {
      "text/plain": [
       "langchain_core.documents.base.Document"
      ]
     },
     "execution_count": 7,
     "metadata": {},
     "output_type": "execute_result"
    }
   ],
   "source": [
    "type(doc)"
   ]
  },
  {
   "cell_type": "markdown",
   "id": "1f7c1c26",
   "metadata": {},
   "source": [
    "# Text File (.txt)"
   ]
  },
  {
   "cell_type": "code",
   "execution_count": 8,
   "id": "6a0cd3cd",
   "metadata": {},
   "outputs": [],
   "source": [
    "# create a simple text file \n",
    "import os\n",
    "os.makedirs(\"data/text_files\",exist_ok=True)"
   ]
  },
  {
   "cell_type": "code",
   "execution_count": 12,
   "id": "582343a5",
   "metadata": {},
   "outputs": [
    {
     "name": "stdout",
     "output_type": "stream",
     "text": [
      "Sample text file created\n"
     ]
    }
   ],
   "source": [
    "sample_text={\n",
    "    \"data/text_files/pyhton_intro.txt\":\"\"\"1-data_ingestion.ipynb\n",
    "    Python is a high-level, versatile, and easy-to-learn programming language that \n",
    "    is widely used across various domains such as web development, data science, machine \n",
    "    learning, automation, and software development. Known for its simple syntax and readability, \n",
    "    Python allows developers to write clean and efficient code with fewer lines compared to many \n",
    "    other languages. It supports multiple programming paradigms including object-oriented,\n",
    "    procedural, and functional programming, making it flexible for different types of projects. \n",
    "    With a vast ecosystem of libraries and frameworks like NumPy, Pandas, Django, and TensorFlow,\n",
    "    Python empowers beginners and professionals alike to build powerful applications quickly. \n",
    "    Its strong community support and cross-platform compatibility further make it one of the most \n",
    "    popular and in-demand programming languages in the world today.\n",
    "\n",
    "    Here are some key features of Python \n",
    "\n",
    "Simple & Easy to Learn – Python has a clean, readable syntax close to English, making it beginner-friendly.\n",
    "\n",
    "Interpreted Language – No need for compilation; Python code runs directly, making debugging easier.\n",
    "\n",
    "Cross-Platform – Works on Windows, Mac, Linux, and even mobile/embedded systems.\n",
    "\n",
    "Open Source & Free – Anyone can use and modify it without cost.\n",
    "\n",
    "Extensive Libraries – Comes with rich standard libraries and third-party modules for almost every domain (AI, Data Science, Web, etc.).\n",
    "\n",
    "Object-Oriented & Multi-Paradigm – Supports OOP, procedural, and functional programming styles.\n",
    "\n",
    "Dynamic Typing – No need to declare variable types; Python decides at runtime.\n",
    "\n",
    "High-Level Language – Focuses on problem-solving rather than low-level details like memory management.\n",
    "    \"\"\",\n",
    "\n",
    "    \"data/text_files/machine_learning.txt\":\"\"\"1-data_ingestion.ipynb\n",
    "\n",
    "Machine Learning (ML) is a subset of Artificial Intelligence (AI) that focuses on developing systems capable of learning from data and improving their performance over time without being explicitly programmed. Unlike traditional programming, where rules are predefined and outcomes are strictly determined by code, machine learning algorithms allow computers to recognize patterns, make predictions, and adapt to new information. This makes it an incredibly powerful tool in today’s digital era where vast amounts of data are generated every second.\n",
    "\n",
    "The foundation of machine learning lies in algorithms and models that process data to identify trends and patterns. These algorithms are broadly categorized into three types: supervised learning, unsupervised learning, and reinforcement learning. In supervised learning, the system is trained with labeled data, meaning the input and corresponding correct output are provided. This helps the model learn relationships between inputs and outputs, making it useful for tasks such as spam detection, sentiment analysis, or predicting house prices. Unsupervised learning, on the other hand, deals with unlabeled data. Here, the algorithm groups or clusters the data based on similarities, which is often used in customer segmentation or market basket analysis. Reinforcement learning is inspired by behavioral psychology, where an agent learns to make decisions by interacting with its environment and receiving rewards or penalties based on its actions. This technique is widely applied in robotics, gaming, and autonomous driving.\n",
    "\n",
    "One of the most important aspects of machine learning is the data itself. The quality, quantity, and relevance of data directly influence the performance of a model. Machine learning involves several steps, including data collection, preprocessing, feature selection, training, testing, and evaluation. Preprocessing ensures that raw data is cleaned, standardized, and made suitable for analysis. Feature selection helps in identifying the most relevant attributes that contribute to accurate predictions. The training phase involves feeding the data into an algorithm to build a predictive model, while testing evaluates how well the model performs on unseen data.\n",
    "\n",
    "Machine learning has found widespread applications in almost every domain. In healthcare, it assists in disease prediction, drug discovery, and medical imaging analysis. In finance, ML models are used for fraud detection, credit scoring, and algorithmic trading. Retailers employ machine learning for personalized recommendations, demand forecasting, and inventory management. Social media platforms use ML algorithms to filter content, detect fake accounts, and enhance user engagement. Moreover, self-driving cars rely heavily on machine learning to process sensor data, recognize objects, and make real-time driving decisions.\n",
    "\n",
    "Despite its immense benefits, machine learning also faces challenges. Issues such as biased data, overfitting, lack of interpretability, and ethical concerns regarding privacy and fairness must be carefully addressed. For example, if a model is trained on biased data, it may produce unfair outcomes that reinforce existing inequalities. Researchers are actively working on explainable AI techniques to make ML models more transparent and trustworthy.\n",
    "\n",
    "In conclusion, machine learning is revolutionizing the way technology interacts with humans by making systems smarter, more adaptive, and capable of independent decision-making. As data continues to grow at an unprecedented rate, the role of machine learning will only expand, opening new possibilities for innovation in science, business, and everyday life. With its ability to learn, predict, and improve, machine learning stands as a cornerstone of modern artificial intelligence and a driving force behind future technological advancements.\n",
    "\n",
    "    \"\"\"\n",
    "}\n",
    "\n",
    "for filepath, content in sample_text.items():\n",
    "    with open(filepath,'w',encoding=\"utf-8\") as f:\n",
    "        f.write(content)\n",
    "print(\"Sample text file created\")"
   ]
  },
  {
   "cell_type": "markdown",
   "id": "b610f152",
   "metadata": {},
   "source": [
    "## TextLoader - Read Single FIle"
   ]
  },
  {
   "cell_type": "code",
   "execution_count": 13,
   "id": "97959b15",
   "metadata": {},
   "outputs": [],
   "source": [
    "from langchain.document_loaders import TextLoader\n",
    "from langchain_community.document_loaders import TextLoader"
   ]
  },
  {
   "cell_type": "code",
   "execution_count": 18,
   "id": "3ea19d40",
   "metadata": {},
   "outputs": [],
   "source": [
    "# Loading single text file\n",
    "loader = TextLoader(\"data/text_files/pyhton_intro.txt\", encoding=\"utf-8\")"
   ]
  },
  {
   "cell_type": "code",
   "execution_count": 17,
   "id": "6f98df5b",
   "metadata": {},
   "outputs": [
    {
     "data": {
      "text/plain": [
       "<langchain_community.document_loaders.text.TextLoader at 0x219c9d45d50>"
      ]
     },
     "execution_count": 17,
     "metadata": {},
     "output_type": "execute_result"
    }
   ],
   "source": [
    "loader"
   ]
  },
  {
   "cell_type": "code",
   "execution_count": 20,
   "id": "7025affe",
   "metadata": {},
   "outputs": [
    {
     "name": "stdout",
     "output_type": "stream",
     "text": [
      "<class 'list'>\n",
      "[Document(metadata={'source': 'data/text_files/pyhton_intro.txt'}, page_content='1-data_ingestion.ipynb\\n    Python is a high-level, versatile, and easy-to-learn programming language that \\n    is widely used across various domains such as web development, data science, machine \\n    learning, automation, and software development. Known for its simple syntax and readability, \\n    Python allows developers to write clean and efficient code with fewer lines compared to many \\n    other languages. It supports multiple programming paradigms including object-oriented,\\n    procedural, and functional programming, making it flexible for different types of projects. \\n    With a vast ecosystem of libraries and frameworks like NumPy, Pandas, Django, and TensorFlow,\\n    Python empowers beginners and professionals alike to build powerful applications quickly. \\n    Its strong community support and cross-platform compatibility further make it one of the most \\n    popular and in-demand programming languages in the world today.\\n\\n    Here are some key features of Python \\n\\nSimple & Easy to Learn – Python has a clean, readable syntax close to English, making it beginner-friendly.\\n\\nInterpreted Language – No need for compilation; Python code runs directly, making debugging easier.\\n\\nCross-Platform – Works on Windows, Mac, Linux, and even mobile/embedded systems.\\n\\nOpen Source & Free – Anyone can use and modify it without cost.\\n\\nExtensive Libraries – Comes with rich standard libraries and third-party modules for almost every domain (AI, Data Science, Web, etc.).\\n\\nObject-Oriented & Multi-Paradigm – Supports OOP, procedural, and functional programming styles.\\n\\nDynamic Typing – No need to declare variable types; Python decides at runtime.\\n\\nHigh-Level Language – Focuses on problem-solving rather than low-level details like memory management.\\n    ')]\n"
     ]
    }
   ],
   "source": [
    "document = loader.load()\n",
    "print(type(document))\n",
    "print(document)"
   ]
  },
  {
   "cell_type": "code",
   "execution_count": 21,
   "id": "76873692",
   "metadata": {},
   "outputs": [
    {
     "name": "stdout",
     "output_type": "stream",
     "text": [
      "loaded 1 document\n",
      "content preview: 1-data_ingestion.ipynb\n",
      "    Python is a high-level, versatile, and easy-to-learn programming language...\n",
      "Metadata: {'source': 'data/text_files/pyhton_intro.txt'}\n"
     ]
    }
   ],
   "source": [
    "print(f\"loaded {len(document)} document\")\n",
    "print(f\"content preview: {document[0].page_content[:100]}...\")\n",
    "print(f\"Metadata: {document[0].metadata}\")"
   ]
  },
  {
   "cell_type": "markdown",
   "id": "5bea354d",
   "metadata": {},
   "source": [
    "## DirectoryLoader - Multiple Texxt Files"
   ]
  },
  {
   "cell_type": "code",
   "execution_count": 22,
   "id": "7b9118ce",
   "metadata": {},
   "outputs": [],
   "source": [
    "from langchain_community.document_loaders import DirectoryLoader"
   ]
  },
  {
   "cell_type": "code",
   "execution_count": 24,
   "id": "4918b845",
   "metadata": {},
   "outputs": [
    {
     "name": "stderr",
     "output_type": "stream",
     "text": [
      "100%|██████████| 2/2 [00:00<?, ?it/s]\n"
     ]
    }
   ],
   "source": [
    "dir_loader = DirectoryLoader(\n",
    "    \"data/text_files\",\n",
    "    glob=\"**/*.txt\", ## pattern to match files\n",
    "    loader_cls=TextLoader, ## Loader class to use,\n",
    "    loader_kwargs={'encoding':'utf-8'},\n",
    "    show_progress=True\n",
    ")\n",
    "\n",
    "documents = dir_loader.load()"
   ]
  },
  {
   "cell_type": "code",
   "execution_count": 25,
   "id": "adf60aa8",
   "metadata": {},
   "outputs": [
    {
     "name": "stdout",
     "output_type": "stream",
     "text": [
      "loaded 2 document\n",
      "\n",
      "Document 1:\n",
      "Source: data\\text_files\\machine_learning.txt \n",
      "Length: 3906 characters\n",
      "\n",
      "Document 2:\n",
      "Source: data\\text_files\\pyhton_intro.txt \n",
      "Length: 1763 characters\n"
     ]
    }
   ],
   "source": [
    "print(f\"loaded {len(documents)} document\")\n",
    "for i, doc in enumerate(documents):\n",
    "    print(f\"\\nDocument {i+1}:\")\n",
    "    print(f\"Source: {doc.metadata['source']} \")\n",
    "    print(f\"Length: {len(doc.page_content)} characters\")"
   ]
  },
  {
   "cell_type": "markdown",
   "id": "d1fd30bf",
   "metadata": {},
   "source": [
    "## Text Splitting Stratergy"
   ]
  },
  {
   "cell_type": "code",
   "execution_count": null,
   "id": "e39eea12",
   "metadata": {},
   "outputs": [],
   "source": []
  }
 ],
 "metadata": {
  "kernelspec": {
   "display_name": "RAG_Bootcamp",
   "language": "python",
   "name": "python3"
  },
  "language_info": {
   "codemirror_mode": {
    "name": "ipython",
    "version": 3
   },
   "file_extension": ".py",
   "mimetype": "text/x-python",
   "name": "python",
   "nbconvert_exporter": "python",
   "pygments_lexer": "ipython3",
   "version": "3.11.7"
  }
 },
 "nbformat": 4,
 "nbformat_minor": 5
}
