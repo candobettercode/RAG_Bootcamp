{
 "cells": [
  {
   "cell_type": "markdown",
   "id": "c8a8622b",
   "metadata": {},
   "source": [
    "## Word document processing"
   ]
  },
  {
   "cell_type": "code",
   "execution_count": null,
   "id": "11522c00",
   "metadata": {},
   "outputs": [],
   "source": [
    "from docx import Document as DocxDocument\n",
    "import os"
   ]
  },
  {
   "cell_type": "code",
   "execution_count": 2,
   "id": "b7b9afc3",
   "metadata": {},
   "outputs": [],
   "source": [
    "from langchain_community.document_loaders import Docx2txtLoader, UnstructuredWordDocumentLoader"
   ]
  },
  {
   "cell_type": "code",
   "execution_count": 16,
   "id": "dd48d66f",
   "metadata": {},
   "outputs": [
    {
     "name": "stdout",
     "output_type": "stream",
     "text": [
      "loaded 1 documents\n",
      "Content previes: Project Proposal: RAG Implementation\n",
      "\n",
      "Executive Summary\n",
      "\n",
      "This proposal outlines the implementation of a Retrieval-Augmented Generation system for our organization.\n",
      "\n",
      "Objectives\n",
      "\n",
      "Key objectives include:...\n",
      "Metadat: {'source': 'D:\\\\Learning\\\\RAG_Bootcamp\\\\0-Data_Ingest_Parsing\\\\data\\\\proposal.docx'}\n"
     ]
    }
   ],
   "source": [
    "# method 1 using Doctxtloader\n",
    "from langchain_community.document_loaders import Docx2txtLoader\n",
    "try:\n",
    "    docx_loader = Docx2txtLoader(\n",
    "        r\"D:\\Learning\\RAG_Bootcamp\\0-Data_Ingest_Parsing\\data\\proposal.docx\"\n",
    "    )\n",
    "    docx=docx_loader.load()\n",
    "    print(f\"loaded {len(docx)} documents\")\n",
    "    print(f\"Content previes: {docx[0].page_content[:200]}...\")  \n",
    "    print(f\"Metadat: {docx[0].metadata}\")\n",
    "\n",
    "\n",
    "except Exception as e:\n",
    "    print(f\"Error: {e}\")"
   ]
  },
  {
   "cell_type": "code",
   "execution_count": 17,
   "id": "8345ab1a",
   "metadata": {},
   "outputs": [
    {
     "name": "stdout",
     "output_type": "stream",
     "text": [
      " Using unstructuredWord DocumentLoader\n",
      "loaded 20 elements\n",
      "\n",
      "Element 1:\n",
      "Types: Title\n",
      "Content: Project Proposal: RAG Implementation...\n",
      "\n",
      "Element 2:\n",
      "Types: Title\n",
      "Content: Executive Summary...\n",
      "\n",
      "Element 3:\n",
      "Types: NarrativeText\n",
      "Content: This proposal outlines the implementation of a Retrieval-Augmented Generation system for our organiz...\n"
     ]
    }
   ],
   "source": [
    "# method 2\n",
    "print(f\" Using unstructuredWord DocumentLoader\")\n",
    "try:\n",
    "    unstructured_loader = UnstructuredWordDocumentLoader(r\"D:\\Learning\\RAG_Bootcamp\\0-Data_Ingest_Parsing\\data\\proposal.docx\", mode=\"elements\")\n",
    "    unstructured_doc=unstructured_loader.load()\n",
    "\n",
    "    print(f\"loaded {len(unstructured_doc)} elements\")\n",
    "    for i, doc in enumerate(unstructured_doc[:3]):\n",
    "        print(f\"\\nElement {i+1}:\")\n",
    "        print(f\"Types: {doc.metadata.get('category','unknown')}\")\n",
    "        print(f\"Content: {doc.page_content[:100]}...\")\n",
    "except Exception as e:\n",
    "    print(e)"
   ]
  },
  {
   "cell_type": "markdown",
   "id": "b447f8fa",
   "metadata": {},
   "source": []
  },
  {
   "cell_type": "code",
   "execution_count": 18,
   "id": "f8a9739e",
   "metadata": {},
   "outputs": [
    {
     "data": {
      "text/plain": [
       "[Document(metadata={'source': 'D:\\\\Learning\\\\RAG_Bootcamp\\\\0-Data_Ingest_Parsing\\\\data\\\\proposal.docx', 'category_depth': 0, 'file_directory': 'D:\\\\Learning\\\\RAG_Bootcamp\\\\0-Data_Ingest_Parsing\\\\data', 'filename': 'proposal.docx', 'last_modified': '2025-08-20T21:51:18', 'languages': ['eng'], 'filetype': 'application/vnd.openxmlformats-officedocument.wordprocessingml.document', 'category': 'Title', 'element_id': 'bb0410bfd160ef866f8d4357b0949db2'}, page_content='Project Proposal: RAG Implementation'),\n",
       " Document(metadata={'source': 'D:\\\\Learning\\\\RAG_Bootcamp\\\\0-Data_Ingest_Parsing\\\\data\\\\proposal.docx', 'category_depth': 0, 'file_directory': 'D:\\\\Learning\\\\RAG_Bootcamp\\\\0-Data_Ingest_Parsing\\\\data', 'filename': 'proposal.docx', 'last_modified': '2025-08-20T21:51:18', 'languages': ['eng'], 'filetype': 'application/vnd.openxmlformats-officedocument.wordprocessingml.document', 'category': 'Title', 'element_id': 'c0f844859abf08d9506856b3aed4a719'}, page_content='Executive Summary'),\n",
       " Document(metadata={'source': 'D:\\\\Learning\\\\RAG_Bootcamp\\\\0-Data_Ingest_Parsing\\\\data\\\\proposal.docx', 'category_depth': 0, 'file_directory': 'D:\\\\Learning\\\\RAG_Bootcamp\\\\0-Data_Ingest_Parsing\\\\data', 'filename': 'proposal.docx', 'last_modified': '2025-08-20T21:51:18', 'languages': ['eng'], 'filetype': 'application/vnd.openxmlformats-officedocument.wordprocessingml.document', 'parent_id': 'c0f844859abf08d9506856b3aed4a719', 'category': 'NarrativeText', 'element_id': 'bbc04fc71e33a92df30d7fe7c33b6375'}, page_content='This proposal outlines the implementation of a Retrieval-Augmented Generation system for our organization.'),\n",
       " Document(metadata={'source': 'D:\\\\Learning\\\\RAG_Bootcamp\\\\0-Data_Ingest_Parsing\\\\data\\\\proposal.docx', 'category_depth': 0, 'file_directory': 'D:\\\\Learning\\\\RAG_Bootcamp\\\\0-Data_Ingest_Parsing\\\\data', 'filename': 'proposal.docx', 'last_modified': '2025-08-20T21:51:18', 'languages': ['eng'], 'filetype': 'application/vnd.openxmlformats-officedocument.wordprocessingml.document', 'category': 'Title', 'element_id': 'a2c8ca6c90e23196fcf4be625007bbd6'}, page_content='Objectives'),\n",
       " Document(metadata={'source': 'D:\\\\Learning\\\\RAG_Bootcamp\\\\0-Data_Ingest_Parsing\\\\data\\\\proposal.docx', 'category_depth': 0, 'file_directory': 'D:\\\\Learning\\\\RAG_Bootcamp\\\\0-Data_Ingest_Parsing\\\\data', 'filename': 'proposal.docx', 'last_modified': '2025-08-20T21:51:18', 'languages': ['eng'], 'filetype': 'application/vnd.openxmlformats-officedocument.wordprocessingml.document', 'parent_id': 'a2c8ca6c90e23196fcf4be625007bbd6', 'category': 'NarrativeText', 'element_id': '335654d234a93f0eb1e1e6798c633eb7'}, page_content='Key objectives include:'),\n",
       " Document(metadata={'source': 'D:\\\\Learning\\\\RAG_Bootcamp\\\\0-Data_Ingest_Parsing\\\\data\\\\proposal.docx', 'category_depth': 0, 'file_directory': 'D:\\\\Learning\\\\RAG_Bootcamp\\\\0-Data_Ingest_Parsing\\\\data', 'filename': 'proposal.docx', 'last_modified': '2025-08-20T21:51:18', 'languages': ['eng'], 'filetype': 'application/vnd.openxmlformats-officedocument.wordprocessingml.document', 'parent_id': 'a2c8ca6c90e23196fcf4be625007bbd6', 'category': 'ListItem', 'element_id': 'a62787f7e487c3715929cc34a512d2df'}, page_content='Improve information retrieval accuracy'),\n",
       " Document(metadata={'source': 'D:\\\\Learning\\\\RAG_Bootcamp\\\\0-Data_Ingest_Parsing\\\\data\\\\proposal.docx', 'category_depth': 0, 'file_directory': 'D:\\\\Learning\\\\RAG_Bootcamp\\\\0-Data_Ingest_Parsing\\\\data', 'filename': 'proposal.docx', 'last_modified': '2025-08-20T21:51:18', 'languages': ['eng'], 'filetype': 'application/vnd.openxmlformats-officedocument.wordprocessingml.document', 'parent_id': 'a2c8ca6c90e23196fcf4be625007bbd6', 'category': 'ListItem', 'element_id': '7403c111f034d07762a2ea3f9e77fd55'}, page_content='Reduce response time for customer queries'),\n",
       " Document(metadata={'source': 'D:\\\\Learning\\\\RAG_Bootcamp\\\\0-Data_Ingest_Parsing\\\\data\\\\proposal.docx', 'category_depth': 0, 'file_directory': 'D:\\\\Learning\\\\RAG_Bootcamp\\\\0-Data_Ingest_Parsing\\\\data', 'filename': 'proposal.docx', 'last_modified': '2025-08-20T21:51:18', 'languages': ['eng'], 'filetype': 'application/vnd.openxmlformats-officedocument.wordprocessingml.document', 'parent_id': 'a2c8ca6c90e23196fcf4be625007bbd6', 'category': 'ListItem', 'element_id': 'b7a32dbf801712e0cbb4301b40fc1332'}, page_content='Integrate with existing knowledge base'),\n",
       " Document(metadata={'source': 'D:\\\\Learning\\\\RAG_Bootcamp\\\\0-Data_Ingest_Parsing\\\\data\\\\proposal.docx', 'category_depth': 0, 'file_directory': 'D:\\\\Learning\\\\RAG_Bootcamp\\\\0-Data_Ingest_Parsing\\\\data', 'filename': 'proposal.docx', 'last_modified': '2025-08-20T21:51:18', 'languages': ['eng'], 'filetype': 'application/vnd.openxmlformats-officedocument.wordprocessingml.document', 'category': 'Title', 'element_id': '03384feebdc9dbc6c3e66f42a31ae4d4'}, page_content='Budget and Timeline'),\n",
       " Document(metadata={'source': 'D:\\\\Learning\\\\RAG_Bootcamp\\\\0-Data_Ingest_Parsing\\\\data\\\\proposal.docx', 'category_depth': 0, 'file_directory': 'D:\\\\Learning\\\\RAG_Bootcamp\\\\0-Data_Ingest_Parsing\\\\data', 'filename': 'proposal.docx', 'last_modified': '2025-08-20T21:51:18', 'languages': ['eng'], 'filetype': 'application/vnd.openxmlformats-officedocument.wordprocessingml.document', 'parent_id': '03384feebdc9dbc6c3e66f42a31ae4d4', 'category': 'UncategorizedText', 'element_id': '2b656c76dce795af739297289ec70cb4'}, page_content='Budget: $50,000'),\n",
       " Document(metadata={'source': 'D:\\\\Learning\\\\RAG_Bootcamp\\\\0-Data_Ingest_Parsing\\\\data\\\\proposal.docx', 'category_depth': 0, 'file_directory': 'D:\\\\Learning\\\\RAG_Bootcamp\\\\0-Data_Ingest_Parsing\\\\data', 'filename': 'proposal.docx', 'last_modified': '2025-08-20T21:51:18', 'languages': ['eng'], 'filetype': 'application/vnd.openxmlformats-officedocument.wordprocessingml.document', 'parent_id': '03384feebdc9dbc6c3e66f42a31ae4d4', 'category': 'UncategorizedText', 'element_id': '579456f56ae28a18e9113d256cf0c677'}, page_content='Timeline: 3 months'),\n",
       " Document(metadata={'source': 'D:\\\\Learning\\\\RAG_Bootcamp\\\\0-Data_Ingest_Parsing\\\\data\\\\proposal.docx', 'category_depth': 0, 'file_directory': 'D:\\\\Learning\\\\RAG_Bootcamp\\\\0-Data_Ingest_Parsing\\\\data', 'filename': 'proposal.docx', 'last_modified': '2025-08-20T21:51:18', 'languages': ['eng'], 'filetype': 'application/vnd.openxmlformats-officedocument.wordprocessingml.document', 'parent_id': '03384feebdc9dbc6c3e66f42a31ae4d4', 'category': 'UncategorizedText', 'element_id': 'cd21a830803498d697e79322b08cb621'}, page_content='Team: 4 developers, 1 project manager'),\n",
       " Document(metadata={'source': 'D:\\\\Learning\\\\RAG_Bootcamp\\\\0-Data_Ingest_Parsing\\\\data\\\\proposal.docx', 'category_depth': 0, 'file_directory': 'D:\\\\Learning\\\\RAG_Bootcamp\\\\0-Data_Ingest_Parsing\\\\data', 'filename': 'proposal.docx', 'last_modified': '2025-08-20T21:51:18', 'languages': ['eng'], 'filetype': 'application/vnd.openxmlformats-officedocument.wordprocessingml.document', 'category': 'Title', 'element_id': '79f776a9342d2b31ac42ee74e884601d'}, page_content='Technical Requirements'),\n",
       " Document(metadata={'source': 'D:\\\\Learning\\\\RAG_Bootcamp\\\\0-Data_Ingest_Parsing\\\\data\\\\proposal.docx', 'category_depth': 0, 'file_directory': 'D:\\\\Learning\\\\RAG_Bootcamp\\\\0-Data_Ingest_Parsing\\\\data', 'filename': 'proposal.docx', 'last_modified': '2025-08-20T21:51:18', 'languages': ['eng'], 'filetype': 'application/vnd.openxmlformats-officedocument.wordprocessingml.document', 'parent_id': '79f776a9342d2b31ac42ee74e884601d', 'category': 'NarrativeText', 'element_id': 'bd3ed1f0473cc4dc2a91175293045731'}, page_content='Required technologies:'),\n",
       " Document(metadata={'source': 'D:\\\\Learning\\\\RAG_Bootcamp\\\\0-Data_Ingest_Parsing\\\\data\\\\proposal.docx', 'category_depth': 0, 'file_directory': 'D:\\\\Learning\\\\RAG_Bootcamp\\\\0-Data_Ingest_Parsing\\\\data', 'filename': 'proposal.docx', 'last_modified': '2025-08-20T21:51:18', 'languages': ['eng'], 'filetype': 'application/vnd.openxmlformats-officedocument.wordprocessingml.document', 'parent_id': '79f776a9342d2b31ac42ee74e884601d', 'category': 'ListItem', 'element_id': 'bd3174066f748a60216ee2b8fec3e3c9'}, page_content='Python 3.8+'),\n",
       " Document(metadata={'source': 'D:\\\\Learning\\\\RAG_Bootcamp\\\\0-Data_Ingest_Parsing\\\\data\\\\proposal.docx', 'category_depth': 0, 'file_directory': 'D:\\\\Learning\\\\RAG_Bootcamp\\\\0-Data_Ingest_Parsing\\\\data', 'filename': 'proposal.docx', 'last_modified': '2025-08-20T21:51:18', 'languages': ['eng'], 'filetype': 'application/vnd.openxmlformats-officedocument.wordprocessingml.document', 'parent_id': '79f776a9342d2b31ac42ee74e884601d', 'category': 'ListItem', 'element_id': 'e9c9cf7f0ab0b8741759b94fde3ca1ec'}, page_content='OpenAI API access'),\n",
       " Document(metadata={'source': 'D:\\\\Learning\\\\RAG_Bootcamp\\\\0-Data_Ingest_Parsing\\\\data\\\\proposal.docx', 'category_depth': 0, 'file_directory': 'D:\\\\Learning\\\\RAG_Bootcamp\\\\0-Data_Ingest_Parsing\\\\data', 'filename': 'proposal.docx', 'last_modified': '2025-08-20T21:51:18', 'languages': ['eng'], 'filetype': 'application/vnd.openxmlformats-officedocument.wordprocessingml.document', 'parent_id': '79f776a9342d2b31ac42ee74e884601d', 'category': 'ListItem', 'element_id': 'c7afb3a7eb2cda7dfb6b6ca21f84a62c'}, page_content='Vector database (ChromaDB)'),\n",
       " Document(metadata={'source': 'D:\\\\Learning\\\\RAG_Bootcamp\\\\0-Data_Ingest_Parsing\\\\data\\\\proposal.docx', 'category_depth': 0, 'file_directory': 'D:\\\\Learning\\\\RAG_Bootcamp\\\\0-Data_Ingest_Parsing\\\\data', 'filename': 'proposal.docx', 'last_modified': '2025-08-20T21:51:18', 'languages': ['eng'], 'filetype': 'application/vnd.openxmlformats-officedocument.wordprocessingml.document', 'parent_id': '79f776a9342d2b31ac42ee74e884601d', 'category': 'ListItem', 'element_id': 'a5c92389ea9457df2863111aa3643e9f'}, page_content='16GB RAM minimum'),\n",
       " Document(metadata={'source': 'D:\\\\Learning\\\\RAG_Bootcamp\\\\0-Data_Ingest_Parsing\\\\data\\\\proposal.docx', 'category_depth': 0, 'file_directory': 'D:\\\\Learning\\\\RAG_Bootcamp\\\\0-Data_Ingest_Parsing\\\\data', 'filename': 'proposal.docx', 'last_modified': '2025-08-20T21:51:18', 'languages': ['eng'], 'filetype': 'application/vnd.openxmlformats-officedocument.wordprocessingml.document', 'category': 'Title', 'element_id': '7da2807bf22f20a489b6af8e62840a5a'}, page_content='Project Phases'),\n",
       " Document(metadata={'source': 'D:\\\\Learning\\\\RAG_Bootcamp\\\\0-Data_Ingest_Parsing\\\\data\\\\proposal.docx', 'file_directory': 'D:\\\\Learning\\\\RAG_Bootcamp\\\\0-Data_Ingest_Parsing\\\\data', 'filename': 'proposal.docx', 'last_modified': '2025-08-20T21:51:18', 'text_as_html': '<table><tr><td>Phase</td><td>Duration</td><td>Deliverables</td></tr><tr><td>Research</td><td>2 weeks</td><td>Technology evaluation report</td></tr><tr><td>Development</td><td>8 weeks</td><td>Working RAG prototype</td></tr><tr><td>Testing</td><td>2 weeks</td><td>Performance benchmarks</td></tr></table>', 'languages': ['eng'], 'filetype': 'application/vnd.openxmlformats-officedocument.wordprocessingml.document', 'parent_id': '7da2807bf22f20a489b6af8e62840a5a', 'category': 'Table', 'element_id': 'e551119ba54073b0c9a4ac4d95ac929f'}, page_content='Phase Duration Deliverables Research 2 weeks Technology evaluation report Development 8 weeks Working RAG prototype Testing 2 weeks Performance benchmarks')]"
      ]
     },
     "execution_count": 18,
     "metadata": {},
     "output_type": "execute_result"
    }
   ],
   "source": [
    "unstructured_doc"
   ]
  },
  {
   "cell_type": "code",
   "execution_count": null,
   "id": "1f9d3168",
   "metadata": {},
   "outputs": [],
   "source": []
  }
 ],
 "metadata": {
  "kernelspec": {
   "display_name": "RAG_Bootcamp",
   "language": "python",
   "name": "python3"
  },
  "language_info": {
   "codemirror_mode": {
    "name": "ipython",
    "version": 3
   },
   "file_extension": ".py",
   "mimetype": "text/x-python",
   "name": "python",
   "nbconvert_exporter": "python",
   "pygments_lexer": "ipython3",
   "version": "3.11.7"
  }
 },
 "nbformat": 4,
 "nbformat_minor": 5
}
